{
 "cells": [
  {
   "cell_type": "markdown",
   "metadata": {},
   "source": [
    "# Mapping Literary Chiaroscuro in Joseph Conrad's *Heart of Darkness*\n",
    "## Ken Miura\n",
    "\n",
    "16 December 2020\n",
    "\n",
    "Introduction to Computational Literary Analysis\n",
    "\n",
    "Department of English and Comparative Literature, Columbia University\n",
    "\n",
    "Instructor: Jonathan Reeve"
   ]
  },
  {
   "cell_type": "markdown",
   "metadata": {},
   "source": [
    "## Abstract\n",
    "\n",
    "A word frequency analysis of the lemmas related to 'darkness' and 'light' is used to determine the function of literary chiaroscuro as a device in Joseph Conrad's *Heart of Darkness*. It is shown that light and darkness are frequently juxtaposed in a manner which positions darkness dominating the light, and that this chiaroscuro is employed by Conrad to create narrative structure for his themes. Furthermore, the article argues that the frequency distribution data and its visualizations enable descriptive, quantifiable assessments of past critiques and analyses of the text. \n",
    "\n",
    "## Introduction\n",
    "\n",
    "As the eponymous motif in *Heart of Darkness*, the role of darkness in Conrad's definitive work has been the subject of intensive research by both quantitative and qualitative methods. In this article, my aim is to analyze Conrad’s use of darkness in juxtaposition to light within the text to create contrast, which we will define as literary chiaroscuro. By examining the function of this contrast in *Heart of Darkness*I seek to assess the validity of post-colonial criticisms surrounding the text from a descriptivist perspective. \n",
    "\n",
    "Chiaroscuro, a term originally applied to paintings to describe sharp tonal contrasts, may be used in the context of literary texts to denote the contrast provided by the juxtaposition of opposing lexical elements. The French usage of the term, 'clair-obscur', has been used in reference to both literature and philosophy as an analogy to the pictoral technique, to clarify ('clair') and obscure ('obscur') elements through linguistic arrangement. In his critique of Condillac's usage of 'clair-obscur' as a literary device, Manon Plante argues that chiaroscuro gains additional depth in meaning when applied to textual contexts: \n",
    "\n",
    "\n",
    ">By using the compound term in a text on *clarté* in grammar, Condillac retains their traditional meanings in the field of letters, rather than painting. Indeed, these two components bring their connoted meanings into the compound term to signal implicitly Condillac’s vision of *clarté* in grammar: *clarté* in ideas and *obscurité* of passions are fused, having neither positive nor negative value... (482)\n",
    "\n",
    "\n",
    "In other words, the concept of chiaroscuro when applied to the context of literature transcends that of the pictoral confines of tonal contrast. Beyond the literal dichotomy of light and dark, chiaroscuro becomes a device which implicitly connotes the ambiguous spectrum of clarity embedded within the traditional literary usage of those terms. Given that lexical arrangement can be used to identify literary chiaroscuro, it follows that quantitative techniques can then be applied to investigate its usage and function.  \n",
    "\n",
    "Word frequency and distribution data has previously been used as the basis for linguistic analysis to elucidate the function of darkness within *Heart of Darkness*. Michael Stubbs conducted an extensive corpus analysis of the text to establish the validity of such methods, arguing that they \"provide a more detailed descriptive basis\" for literary interpretations of the book (5). Building upon Stubbs' framework, Monica Turci employed linguistic analysis of word frequencies and collocation patterns to assign meaning to the lemma 'dark' and its function within the text in relation to imperialist themes. She finds that the lemma 'dark' is used predominantly to \"connote negatively the main character Kurtz (110).\" Perhaps most interestingly, despite the volumes of literature produced on the representation of Africa as a 'dark continent' in Conrad's novel, Turci asserts the contrary - that mentions of Africa in relation to the lemma 'dark' is starkly absent: \n",
    "\n",
    "\n",
    "> [...] while the word list search reveals a consistent reiteration of the lemma dark*, it also reveals an almost complete absence of references to Africa, which is mentioned only once in the whole novella. (104)\n",
    "\n",
    "\n",
    "Turci's findings, along with Plante's interpretation of the function of chiaroscuro in literary contexts, provides a framework through which we may examine the ways in which Conrad utilizes this technique in regards to imperialism. What I hope to contribute through this analysis of chiaroscuro in Conrad's *Heart of Darkness* is to elucidate the ways in which the tension between light and dark is created and exploited to highlight certain elements and themes while obscuring or otherwise diminishing others. "
   ]
  },
  {
   "cell_type": "code",
   "execution_count": 1,
   "metadata": {},
   "outputs": [],
   "source": [
    "import nltk\n",
    "from nltk.corpus import wordnet as wn\n",
    "from nltk.corpus import stopwords as stops \n",
    "\n",
    "import spacy \n",
    "import scattertext as st\n",
    "from pprint import pprint\n",
    "from spacy_wordnet.wordnet_annotator import WordnetAnnotator \n",
    "\n",
    "import pandas as pd\n",
    "from collections import Counter\n",
    "\n",
    "import requests\n",
    "import json\n",
    "\n",
    "import sklearn\n",
    "from sklearn.feature_extraction.text import CountVectorizer, TfidfVectorizer, TfidfTransformer\n",
    "from sklearn.decomposition import PCA\n",
    "\n",
    "import matplotlib as mpl\n",
    "import matplotlib.colors as clrs"
   ]
  },
  {
   "cell_type": "markdown",
   "metadata": {},
   "source": [
    "## Building the corpus\n",
    "\n",
    "Natural languange processing is used in this analysis to quantify and visualize the frequency distribution patterns of dark and light lemmas within *Heart of Darkness*.  The full electronic transcription of the text from the corpus-DB database is used, which is an edited copy of the version available on Project Gutenberg. The full script of *Apocalypse Now Redux*, the extended edit of the film by Francis Coppola, is also used for the purposes of comparative analysis. The natural language processing package spaCy is used to digitally annotate these texts for analysis and implement most of these computational methods."
   ]
  },
  {
   "cell_type": "code",
   "execution_count": 2,
   "metadata": {},
   "outputs": [],
   "source": [
    "nlp = spacy.load('en_core_web_lg')\n",
    "nlp.add_pipe(WordnetAnnotator(nlp.lang), after='tagger')"
   ]
  },
  {
   "cell_type": "code",
   "execution_count": 3,
   "metadata": {},
   "outputs": [],
   "source": [
    "url = \"http://corpus-db.org/api/author/Conrad, Joseph\""
   ]
  },
  {
   "cell_type": "code",
   "execution_count": 4,
   "metadata": {},
   "outputs": [],
   "source": [
    "response = requests.get(url = url)\n",
    "conrad = json.loads(response.text)\n",
    "\n",
    "# remove second occurence of Heart of Darkness\n",
    "conrad.pop(7)\n",
    "\n",
    "# create list of titles and corresponding CorpusDB ids\n",
    "conradTitles = [book['title'] for book in conrad[:-3]]\n",
    "conradIds = [book['id'] for book in conrad[:-3]]"
   ]
  },
  {
   "cell_type": "code",
   "execution_count": 5,
   "metadata": {},
   "outputs": [],
   "source": [
    "#function to get text from CorpusDB. Sourced from lecture 14\n",
    "\n",
    "def getFullText(bookId): \n",
    "    url = f'http://corpus-db.org/api/id/{bookId}/fulltext'\n",
    "    response = requests.get(url)\n",
    "    if response.ok: \n",
    "        bookText = json.loads(response.text)\n",
    "        if len(bookText) > 0: \n",
    "            return bookText[0]['text']\n",
    "        else:\n",
    "            return 'empty' \n",
    "    else:\n",
    "        print('ERROR: response not ok! Abandon ship!')"
   ]
  },
  {
   "cell_type": "code",
   "execution_count": 6,
   "metadata": {},
   "outputs": [],
   "source": [
    "conradTexts = [getFullText(bookId) for bookId in conradIds]"
   ]
  },
  {
   "cell_type": "code",
   "execution_count": 7,
   "metadata": {},
   "outputs": [],
   "source": [
    "# remove empty texts from list of texts and titles\n",
    "for i, text in enumerate(conradTexts):\n",
    "    if text == 'empty':\n",
    "        title = conradTitles[i]\n",
    "        conradTitles.remove(title)\n",
    "\n",
    "conradTexts.remove('empty')\n",
    "conradTexts.remove('empty')"
   ]
  },
  {
   "cell_type": "code",
   "execution_count": 8,
   "metadata": {},
   "outputs": [],
   "source": [
    "heart = conradTexts[0]\n",
    "heartDoc = nlp(heart)"
   ]
  },
  {
   "cell_type": "code",
   "execution_count": 9,
   "metadata": {},
   "outputs": [],
   "source": [
    "apocNow = open('apocalypseNow.md', encoding='utf-8').read()\n",
    "apocNowDoc = nlp(apocNow)"
   ]
  },
  {
   "cell_type": "markdown",
   "metadata": {},
   "source": [
    "## Identifying light and darkness\n",
    "\n",
    "In order to run frequency distribution analysis on the text, the sets of 'dark' and 'light' words must first be defined. WordNet, a lexical database which groups words into \"sets of cognitive synonyms (synsets)\" is used to construct these sets (Princeton University). By extracting the lemmas grouped within the synsets 'dark' and 'light', we are able to compile a list of words which are meaningfully related to these two terms. Given the wide range of meanings embedded in the lemma 'light', those synonymous lemmas unrelated to the context used in analysis were manually removed. "
   ]
  },
  {
   "cell_type": "code",
   "execution_count": 10,
   "metadata": {},
   "outputs": [],
   "source": [
    "def getHyponym(word): \n",
    "    return word.hyponyms()\n",
    "\n",
    "def isSynset(node): \n",
    "    return type(node) == nltk.corpus.reader.wordnet.Synset\n",
    "\n",
    "def getLemmas(tree): \n",
    "    allLemmas = []\n",
    "    for node in tree: \n",
    "        if isSynset(node): \n",
    "            nodeLemmas = node.lemma_names()\n",
    "            for lem in nodeLemmas: \n",
    "                allLemmas.append(lem)\n",
    "        else: \n",
    "            nodeLemmas = getLemmas(node)\n",
    "            for lem in nodeLemmas: \n",
    "                allLemmas.append(lem)\n",
    "    return allLemmas\n",
    "\n",
    "def makeLemmaList(synsets):\n",
    "    allLems = []\n",
    "    for synset in synsets:\n",
    "        tree = synset.tree(rel = getHyponym)\n",
    "        lemmaList = [lem.lower().replace('_', ' ') for lem in getLemmas(tree)]\n",
    "        for lem in lemmaList:\n",
    "            allLems.append(lem)\n",
    "    return allLems"
   ]
  },
  {
   "cell_type": "code",
   "execution_count": 11,
   "metadata": {},
   "outputs": [],
   "source": [
    "light = wn.synsets('light')\n",
    "dark = wn.synsets('dark')"
   ]
  },
  {
   "cell_type": "code",
   "execution_count": 12,
   "metadata": {},
   "outputs": [],
   "source": [
    "lightLems = [lem for lem in set(makeLemmaList(light)) if not ' ' in lem]\n",
    "darkLems = [lem for lem in set(makeLemmaList(dark)) if not ' ' in lem]"
   ]
  },
  {
   "cell_type": "code",
   "execution_count": 13,
   "metadata": {},
   "outputs": [],
   "source": [
    "removeFromLight = ['swooning',\n",
    "                    'short',\n",
    "                    'wakeful',\n",
    "                    'low-cal', \n",
    "                    'unhorse', \n",
    "                    'abstemious', \n",
    "                    'streamer', \n",
    "                    'shaft', \n",
    "                    'sluttish', \n",
    "                    'dismount', \n",
    "                    'perch', \n",
    "                    'weak', \n",
    "                    'light-headed', \n",
    "                    'tripping', \n",
    "                    'wanton', \n",
    "                    'calorie-free', \n",
    "                    'lightheaded', \n",
    "                    'lite', \n",
    "                    'loose', \n",
    "                    'go-ahead', \n",
    "                    'promiscuous', \n",
    "                    'scant', \n",
    "                    'easy', \n",
    "                    'idle',\n",
    "                    'fall',\n",
    "                    'flood',\n",
    "                    'faint']\n",
    "\n",
    "for word in removeFromLight:\n",
    "    lightLems.remove(word)"
   ]
  },
  {
   "cell_type": "markdown",
   "metadata": {},
   "source": [
    "## Plotting Chiaroscuro in Narrative Time"
   ]
  },
  {
   "cell_type": "code",
   "execution_count": 14,
   "metadata": {},
   "outputs": [
    {
     "data": {
      "image/png": "[encoded data removed]",
      "text/plain": [
       "<Figure size 720x432 with 1 Axes>"
      ]
     },
     "metadata": {
      "needs_background": "light"
     },
     "output_type": "display_data"
    }
   ],
   "source": [
    "# returns whether the token is the weightless meaning of light\n",
    "def isLightWeight(token):\n",
    "    if token.lemma_ == 'light' and token.pos_ == 'ADJ':\n",
    "        return True\n",
    "    \n",
    "# puts occurences of given word in appropriate bins\n",
    "def binIt(doc, lemmas):\n",
    "    segments, bins = pd.cut(range(len(doc)), bins = 15, retbins = True)\n",
    "    locs = [token.i for token in doc if token.lemma_ in lemmas and not isLightWeight(token)]\n",
    "    binned = pd.cut(locs, bins).value_counts()\n",
    "    return binned\n",
    "\n",
    "heartBinnedDF = pd.DataFrame({\"light lemmas\": binIt(heartDoc, lightLems), \n",
    "                              \"dark lemmas\": binIt(heartDoc, darkLems)})\n",
    "\n",
    "cmap = clrs.ListedColormap(['blue', 'crimson'])\n",
    "heartAx = heartBinnedDF.plot(figsize = (10, 6), colormap = cmap, \n",
    "                                 title = 'Narrative Time Plot of Light and Darkness in Heart of Darkness')\n",
    "\n",
    "for marker in [\"\\nI\\n\", \"\\nII\\n\", \"\\nIII\\n\"]:\n",
    "    markerIndex = heart.index(marker)\n",
    "    heartAx.axvline((markerIndex / len(heart) * 10), linestyle = \":\")"
   ]
  },
  {
   "cell_type": "markdown",
   "metadata": {},
   "source": [
    "Unsurprisingly, a cursory analysis of the narrative time plot falls in line with popular understanding of the text. The influence of darkness grows over the course of the narrative, eventually overwhelming light. The frequency of light lemmas is highest at the beginning of the text, while darkness peaks at the end, confirming widely shared interpretations of the text's narrative structure. Looking beyond discrete frequency values however, more descriptive trends emerge. The vertical lines on the narrative time plot each mark the beginning of the three parts which constitute the narrative. With this in mind, one can immediately recognize the pattern in the distribution of light and dark lemmas throughout the course of the text. Each part begins with a spike in light lemmas, followed by a subsequent drop accompanied by a spike in the frequency of dark lemmas. The three parts mirror each other in regards to this pattern of ebb-and-flow, with light and dark oscillating against each other in a bid for dominance. Although light maintains a stronger presence in the first two parts of the narrative, this trend is ultimately broken in the climax of final third, when darkness emerges as the dominant force. \n",
    "\n",
    "Narrative factors obviously influence this trend to a large degree. The first two parts of the story occur before Marlow's meeting with Kurtz, the main figure with whom the lemma 'dark' is predominatly associated (Turci 110). Furthermore, this conflicting dynamic between the wavering light and underlying darkness plays to narrative tropes commonly found in literature. For example, a spike in light lemmas occurs at the beginning of the second chapter, when Marlow is on the steamboat with his fellow 'pilgrims' immediately before they are attacked. The darkness can clearly be seen to be lurking below the light, precipitating the attack and the subsequent spike in dark lemmas. \n",
    "\n",
    "However, a closer qualitative analysis of these spikes in both dark and light lemmas reveal a more nuanced understanding of these oscillating patterns in line with Condillac's definition of 'clair-obsur'. "
   ]
  },
  {
   "cell_type": "code",
   "execution_count": 15,
   "metadata": {},
   "outputs": [
    {
     "name": "stdout",
     "output_type": "stream",
     "text": [
      "Light\n",
      "\n",
      "Peak 1\n",
      "\n",
      "glare, gloom:\n",
      " And farther west on the\n",
      "upper reaches the place of the monstrous town was still marked ominously\n",
      "on the sky, a brooding gloom in sunshine, a lurid glare under the stars.\n",
      "\n",
      " \n",
      "\n",
      "Peak 2\n",
      "\n",
      "torchlight, sinister:\n",
      " The movement\n",
      "of the woman was stately, and the effect of the torchlight on the face\n",
      "was sinister.\n",
      "\n",
      " \n",
      "\n",
      "Peak 3\n",
      "\n",
      "light, darkness:\n",
      " The point was in his\n",
      "being a gifted creature, and that of all his gifts the one that stood\n",
      "out preeminently, that carried with it a sense of real presence, was his\n",
      "ability to talk, his words—the gift of expression, the bewildering,\n",
      "the illuminating, the most exalted and the most contemptible, the\n",
      "pulsating stream of light, or the deceitful flow from the heart of an\n",
      "impenetrable darkness.\n",
      "\n",
      " \n",
      "\n"
     ]
    }
   ],
   "source": [
    "def findChiaroscuro(doc):\n",
    "    csList = []\n",
    "    for token in doc:\n",
    "        if token.lemma_ in lightLems and not isLightWeight(token):\n",
    "            nbors = [token.nbor(i) for i in range(-20, 20)]\n",
    "            for nbor in nbors:\n",
    "                if nbor.lemma_ in darkLems:\n",
    "                    csList.append((token, nbor))\n",
    "    return csList\n",
    "\n",
    "def printChiaroscuro(doc):\n",
    "    csSents = []\n",
    "    for token, nbor in findChiaroscuro(doc):\n",
    "        if token.sent == nbor.sent:\n",
    "            sents = f'{token}, {nbor}:\\n {token.sent.text} \\n'\n",
    "            csSents.append(sents)\n",
    "        elif token.i < nbor.i:\n",
    "            sents = f'{token}, {nbor}:\\n {token.sent.text} {nbor.sent.text}\\n'\n",
    "        else: \n",
    "            sents = f'{token}, {nbor}:\\n {nbor.sent.text} {token.sent.text}\\n'\n",
    "        \n",
    "    return csSents\n",
    "\n",
    "segments, bins = pd.cut(range(len(heartDoc)), bins = 15, retbins = True)\n",
    "\n",
    "\n",
    "print('Light\\n\\nPeak 1\\n\\n' + printChiaroscuro(heartDoc[0:(int(bins[1]))])[2])\n",
    "print('Peak 2\\n\\n' + printChiaroscuro(heartDoc[(int(bins[4])):(int(bins[5]))])[1])\n",
    "print('Peak 3\\n\\n' + printChiaroscuro(heartDoc[(int(bins[8])):(int(bins[9]))])[-1])"
   ]
  },
  {
   "cell_type": "markdown",
   "metadata": {},
   "source": [
    "By searching for collocations of light and dark lemmas in close proximity within these peaks on the narrative time plot, Conrad's implementation of chiaroscuro can be qualitatively analyzed. The three samples above are instances in which light and dark lemmas occur in the same sentence, and are located in the first, second, and third peaks of light lemmas occuring at the beginning of each chapter. The two lemmas (i.e. glare, gloom) denote the light and dark lemmas present in the sentence. \n",
    "\n",
    "The first sentence is located at the beginning of the narrative. Here, light is introduced not as the antithesis of darkness, but rather its enabling agent. Negative sentiment is peppered throughout the description, with words such as \"monstrous\" and \"ominously\" strongly foreshadowing the events to come. The light lemma in this sentence, \"glare\", is also a word with relatively negative connotations which is further magnified by the adjacent adjective, \"lurid\". The sentence from the second peak echoes this pattern, revealing a dynamic between the two motifs previously unseen at the macroscopic narrative level. \n",
    "\n",
    "It is apparent from examining these sentences that light and darkness do not operate as opposing forces in this narrative. To the contrary, light exists in *Heart of Darkness* to make clear the darkness lying in obscurity, to serve darkness as its conduit and its mirror. This interpretation of chiaroscuro manifests itself most clearly in the peak of light occuring at the start of the third chapter, when Marlow finally comes into contact with Kurtz. The sentence is full of light, radiating with positively aligned descriptors such as \"gifted\", \"preeminently\", and \"exalted\". However, the narrative's titular motif reveals itself to be the source of all light - \"the heart of an impenetrable darkness\". "
   ]
  },
  {
   "cell_type": "code",
   "execution_count": 16,
   "metadata": {},
   "outputs": [
    {
     "name": "stdout",
     "output_type": "stream",
     "text": [
      "Dark\n",
      "\n",
      "Part 3\n",
      "\n",
      "clear, dark:\n",
      " The night was very\n",
      "clear; a dark blue space, sparkling with dew and starlight, in which\n",
      "black things stood very still. \n",
      "\n"
     ]
    }
   ],
   "source": [
    "print('Dark\\n\\nPart 3\\n')\n",
    "print(printChiaroscuro(heartDoc[(int(bins[12])):(int(bins[13]))])[1])"
   ]
  },
  {
   "cell_type": "markdown",
   "metadata": {},
   "source": [
    "In this narrative, light cannot exist without darkness. The dominance of darkness is made abundantly clear when examining collocations of light and dark lemmas in peaks of darkness. Sentences in which light and dark lemmas occur concordantly are notably absent in these segments of the narrative, in contrast to what was found in peaks of light. The absence of such instances serve to reinforce the inequal dynamic of power between these two forces, firmly positioning light as subservient to darkness. \n",
    "\n",
    "The sentence above is one of the only collocations of light and dark lemmas found in the peaks of darkness, occuring near the end of part three. At this point in narrative time, the light has completely given way to darkness, symbolized here by the \"night\". Light is represented by the flickering illumination of \"starlight\", whose sole purpose is to direct attention to the \"black things\". "
   ]
  },
  {
   "cell_type": "code",
   "execution_count": 17,
   "metadata": {},
   "outputs": [
    {
     "data": {
      "image/png": "[encoded data removed]",
      "text/plain": [
       "<Figure size 720x432 with 1 Axes>"
      ]
     },
     "metadata": {
      "needs_background": "light"
     },
     "output_type": "display_data"
    }
   ],
   "source": [
    "apocNowBinnedDF = pd.DataFrame({\"light lemmas\": binIt(apocNowDoc, lightLems), \n",
    "                                \"dark lemmas\": binIt(apocNowDoc, darkLems)})\n",
    "\n",
    "apocAx = apocNowBinnedDF.plot(figsize = (10, 6), colormap = cmap, \n",
    "                              title = 'Narrative Time Plot of Light and Darkness in Apocalypse Now')"
   ]
  },
  {
   "cell_type": "markdown",
   "metadata": {},
   "source": [
    "The narrative time plot above utilizes the same computational methods as the previous figure but applied to the script of *Apocalypse Now*. The general structure of the three peaks in lemma frequency has been preserved in the adaptation, but the spikes in darkness have been shifted to occur concurrently with the spikes in light. This may have to do with the visual nature of the medium, limiting the dialogue to be explicit in its expression of thematic elements. A further visual analysis of tonal contrast in the film may yield interesting results, but is beyond the scope of this article. It can also be seen that the film adaptation is more explicit in its portrayal of the triumph of darkness in the conclusion compared to the original text. \n",
    "\n",
    "This comparison between the literary and visual mediums offer a look into the validity of Plante's argument. While the ambiguous tension created by chiaroscuro in the novella allowed for a richer interpretation utilizing the literary connotations of light and darkness, the dynamic in the film adaptation is made explicit, leaving little room for obfuscation. In the visual medium, the tension is presented as a stuggle between light and dark in which darkness is ultimately triumphant."
   ]
  },
  {
   "cell_type": "markdown",
   "metadata": {},
   "source": [
    "## Scattertext"
   ]
  },
  {
   "cell_type": "markdown",
   "metadata": {},
   "source": [
    "Scattertext is a visualization tool developed by Jason Kessler which takes distinguishing terms in corpora to create interactive HTML scatter plots. Using this tool, we may quantitatively analyze the frequencies at which words and phrases occur in proximity to the sets of light and dark lemmas constructed above. For this analysis, proximity was defined as a word occuring in the same sentence as the light and/or dark lemma. "
   ]
  },
  {
   "cell_type": "code",
   "execution_count": 18,
   "metadata": {},
   "outputs": [],
   "source": [
    "cols = (\"token\", \"lemma\", \"text\")\n",
    "rows = []\n",
    "\n",
    "for token in heartDoc[20:]: \n",
    "    if token.lemma_ in lightLems and not isLightWeight(token):\n",
    "        sent = token.sent.text\n",
    "        row = [token.text, \"light\", sent]\n",
    "        rows.append(row)\n",
    "    elif token.lemma_ in darkLems:\n",
    "        sent = token.sent.text\n",
    "        row = [token.text, \"dark\", sent]\n",
    "        rows.append(row)\n",
    "\n",
    "chiaroscuroDF = pd.DataFrame(rows, columns = cols)"
   ]
  },
  {
   "cell_type": "code",
   "execution_count": 19,
   "metadata": {},
   "outputs": [],
   "source": [
    "corpus = st.CorpusFromPandas(chiaroscuroDF,\n",
    "                            category_col = 'lemma',\n",
    "                            text_col = 'text',\n",
    "                            nlp = nlp).build()"
   ]
  },
  {
   "cell_type": "code",
   "execution_count": 20,
   "metadata": {},
   "outputs": [
    {
     "name": "stdout",
     "output_type": "stream",
     "text": [
      "['light',\n",
      " 'sun',\n",
      " 'clear',\n",
      " 'the sun',\n",
      " 'like a',\n",
      " 'without',\n",
      " 'him',\n",
      " 'her',\n",
      " 'was not',\n",
      " 'sunshine']\n"
     ]
    }
   ],
   "source": [
    "termFreqDF = corpus.get_term_freq_df()\n",
    "termFreqDF['luminance'] = corpus.get_scaled_f_scores('light')\n",
    "pprint(list(termFreqDF.sort_values(by = 'luminance', ascending = False).index[:10]))"
   ]
  },
  {
   "cell_type": "code",
   "execution_count": 21,
   "metadata": {},
   "outputs": [
    {
     "name": "stdout",
     "output_type": "stream",
     "text": [
      "['shadow',\n",
      " 'black',\n",
      " 'some',\n",
      " 'lived',\n",
      " 'night',\n",
      " 'blue',\n",
      " 'darkness',\n",
      " 'the night',\n",
      " 'dark',\n",
      " 'they']\n"
     ]
    }
   ],
   "source": [
    "termFreqDF = corpus.get_term_freq_df()\n",
    "termFreqDF['darkness'] = corpus.get_scaled_f_scores('dark')\n",
    "pprint(list(termFreqDF.sort_values(by = 'darkness', ascending = False).index[:10]))"
   ]
  },
  {
   "cell_type": "code",
   "execution_count": 22,
   "metadata": {},
   "outputs": [
    {
     "data": {
      "text/plain": [
       "721246"
      ]
     },
     "execution_count": 22,
     "metadata": {},
     "output_type": "execute_result"
    }
   ],
   "source": [
    "html = st.produce_scattertext_explorer(corpus,\n",
    "          category = 'light',\n",
    "          category_name= 'Light',\n",
    "          not_category_name='Dark',\n",
    "          width_in_pixels=1000,\n",
    "          minimum_term_frequency=2,\n",
    "          metadata=chiaroscuroDF['token'])\n",
    "open(\"Chiaroscuro-Visualization.html\", 'wb').write(html.encode('utf-8'))"
   ]
  },
  {
   "cell_type": "markdown",
   "metadata": {},
   "source": [
    "The html file produced can be viewed here:\n",
    "\n",
    "https://rawgit.com/kmiumiu/computational-literary-analysis/main/Chiaroscuro-Visualization.html\n",
    "\n",
    "An examination of this scatter plot yields several points of interest for further analysis. As expected, the words most frequently collocated with both dark and light lemmas are stop words such as \"the\" and \"and\". The lemmas themselves, such as \"light\" and \"dark\", also occur with some frequency in collocation with the opposite lemma. More importantly, by looking at the content words, we are able to identify the objects of Conrad's focus in the narrative through the use of chiaroscuro. \n",
    "\n",
    "In line with Turci's findings in her analysis of the lemma 'dark', there is a notable absence of the African setting in collocation with both light and dark lemmas in *Heart of Darkness*. \"They\" and \"their\" are some of the top collocations with the lemma dark, suggesting a negative connotation of the ambiguous other. In fact, despite the substantial depth of vocabulary documented in the visualization, it would be difficult to discern the setting at all from an analysis of this figure alone.  Even the \"characteristic\" words of the text, which occur with higher frequency in *Heart of Darkness* relative to its average wider usage, do little to demystefy the narrative context of the story. This suggests a deliberate effort on Conrad's part to diminish the significance of the setting in relation to the central themes of the text through obfuscation.\n",
    "\n",
    "## Conclusion \n",
    "\n",
    "Chiaroscuro demonstrably has the effect of highlighting certain features while obscuring others. As noted by Plante, this is especially the case in literary usages of the technique, whereby chiaroscuro is used not only to contrast, but to absorb and fuse subservient elements into the dominant element to deprive them of value and meaning. That which is highlighted by chiaroscuro is made clearer and stronger. By the same token, all other elements are relegated to the shadow of obscurity, gaining meaning only in relation to the highlighted object. In the case of Conrad's *Heart of Darkness*, that object is the European male represented by the character Kurtz. The setting of Africa and themes of imperialism are rendered irrelevant outside of the context of the European male, echoing post-colonial criticisms of the text by scholars such as Edward Said who argued that Conrad recognized the issue of imperialism while simultaneously disregarding it as insignificant (31). "
   ]
  },
  {
   "cell_type": "markdown",
   "metadata": {},
   "source": [
    "## Works Cited\n",
    "\n",
    "Kessler, Jason. \"Scattertext: a Browser-Based Tool for Visualizing how Corpora Differ\". *ACL System Demonstrations*. 2017. Link to preprint: arxiv.org/abs/1703.00565\n",
    "\n",
    "Miller, D. R., and Monica Turci. *Language and Verbal Art Revisited : Linguistic Approaches to the Study of Literature*. Equinox Publishing Ltd, 2007. EBSCOhost, search.ebscohost.com/login.aspx?direct=true&db=e025xna&AN=547838&site=ehost-live&scope=site.\n",
    "\n",
    "Plante, Manon. \"The Art of Chiaroscuro Writing: Condillac and the Question of Word Order.\" *Journal for Eighteenth-Century Studies*, vol. 37, no. 4, 2014, pp. 473-485, doi:10.1111/1754-0208.12201.\n",
    "\n",
    "Princeton University \"About WordNet.\" *WordNet*. Princeton University. 2010. \n",
    "\n",
    "Said, Edward W. *Culture and Imperialism*. New York: Knopf, 1994. Print.\n",
    "\n",
    "Stubbs, Michael. “Conrad in the Computer: Examples of Quantitative Stylistic Methods.” *Language and Literature*, vol. 14, no. 1, Feb. 2005, pp. 5–24, doi:10.1177/0963947005048873."
   ]
  }
 ],
 "metadata": {
  "kernelspec": {
   "display_name": "Python 3",
   "language": "python",
   "name": "python3"
  },
  "language_info": {
   "codemirror_mode": {
    "name": "ipython",
    "version": 3
   },
   "file_extension": ".py",
   "mimetype": "text/x-python",
   "name": "python",
   "nbconvert_exporter": "python",
   "pygments_lexer": "ipython3",
   "version": "3.8.3"
  }
 },
 "nbformat": 4,
 "nbformat_minor": 4
}
